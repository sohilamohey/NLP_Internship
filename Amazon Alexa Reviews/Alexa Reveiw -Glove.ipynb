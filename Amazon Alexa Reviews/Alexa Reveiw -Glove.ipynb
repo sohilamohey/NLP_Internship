{
 "cells": [
  {
   "cell_type": "code",
   "execution_count": 1,
   "metadata": {},
   "outputs": [
    {
     "name": "stderr",
     "output_type": "stream",
     "text": [
      "[nltk_data] Downloading package stopwords to\n",
      "[nltk_data]     C:\\Users\\sohil\\AppData\\Roaming\\nltk_data...\n",
      "[nltk_data]   Package stopwords is already up-to-date!\n"
     ]
    }
   ],
   "source": [
    "import numpy as np\n",
    "import pandas as pd\n",
    "from sklearn.metrics import f1_score\n",
    "from sklearn.metrics import precision_score, recall_score\n",
    "\n",
    "import matplotlib.pyplot as plt\n",
    "import seaborn as sns\n",
    "import plotly.express as px\n",
    "import plotly.graph_objs as go\n",
    "import plotly.offline as py\n",
    "import nltk\n",
    "from nltk.corpus import stopwords\n",
    "nltk.download('stopwords')\n",
    "STOPWORDS = set(stopwords.words('english'))\n",
    "from wordcloud import WordCloud\n"
   ]
  },
  {
   "cell_type": "code",
   "execution_count": 2,
   "metadata": {},
   "outputs": [],
   "source": [
    "# Draw Pie Chart\n",
    "def draw_pie_chart_go(labels, values, title):\n",
    "    colorscale = 'dark'\n",
    "    fig = go.Figure(data=[go.Pie(labels=labels, values=values)])\n",
    "    fig.update_layout(title=title)\n",
    "    fig.show()       \n",
    "    \n",
    "def draw_bar_chart(df, x, y, title, column_name, y_name):\n",
    "    import plotly.express as px\n",
    "\n",
    "    # Set a dark color palette directly within Plotly Express\n",
    "    fig = px.bar(df, x=x, y=y, color_discrete_sequence=[\"darkred\"], text=y, title=title)\n",
    "\n",
    "    # Update layout for better appearance\n",
    "    fig.update_layout(\n",
    "        xaxis_title=column_name.capitalize(),\n",
    "        yaxis_title=y_name.capitalize(),\n",
    "        font=dict(size=14, family=\"Arial\"),\n",
    "        title_font=dict(size=18, family=\"Arial\", color=\"black\"),\n",
    "        title_x=0.5  # Center the title\n",
    "    )\n",
    "\n",
    "    # Show the plot\n",
    "    fig.show()    "
   ]
  },
  {
   "cell_type": "code",
   "execution_count": 3,
   "metadata": {},
   "outputs": [
    {
     "data": {
      "text/html": [
       "<div>\n",
       "<style scoped>\n",
       "    .dataframe tbody tr th:only-of-type {\n",
       "        vertical-align: middle;\n",
       "    }\n",
       "\n",
       "    .dataframe tbody tr th {\n",
       "        vertical-align: top;\n",
       "    }\n",
       "\n",
       "    .dataframe thead th {\n",
       "        text-align: right;\n",
       "    }\n",
       "</style>\n",
       "<table border=\"1\" class=\"dataframe\">\n",
       "  <thead>\n",
       "    <tr style=\"text-align: right;\">\n",
       "      <th></th>\n",
       "      <th>rating</th>\n",
       "      <th>date</th>\n",
       "      <th>variation</th>\n",
       "      <th>verified_reviews</th>\n",
       "      <th>feedback</th>\n",
       "    </tr>\n",
       "  </thead>\n",
       "  <tbody>\n",
       "    <tr>\n",
       "      <th>0</th>\n",
       "      <td>5</td>\n",
       "      <td>31-Jul-18</td>\n",
       "      <td>Charcoal Fabric</td>\n",
       "      <td>Love my Echo!</td>\n",
       "      <td>1</td>\n",
       "    </tr>\n",
       "    <tr>\n",
       "      <th>1</th>\n",
       "      <td>5</td>\n",
       "      <td>31-Jul-18</td>\n",
       "      <td>Charcoal Fabric</td>\n",
       "      <td>Loved it!</td>\n",
       "      <td>1</td>\n",
       "    </tr>\n",
       "    <tr>\n",
       "      <th>2</th>\n",
       "      <td>4</td>\n",
       "      <td>31-Jul-18</td>\n",
       "      <td>Walnut Finish</td>\n",
       "      <td>Sometimes while playing a game, you can answer...</td>\n",
       "      <td>1</td>\n",
       "    </tr>\n",
       "    <tr>\n",
       "      <th>3</th>\n",
       "      <td>5</td>\n",
       "      <td>31-Jul-18</td>\n",
       "      <td>Charcoal Fabric</td>\n",
       "      <td>I have had a lot of fun with this thing. My 4 ...</td>\n",
       "      <td>1</td>\n",
       "    </tr>\n",
       "    <tr>\n",
       "      <th>4</th>\n",
       "      <td>5</td>\n",
       "      <td>31-Jul-18</td>\n",
       "      <td>Charcoal Fabric</td>\n",
       "      <td>Music</td>\n",
       "      <td>1</td>\n",
       "    </tr>\n",
       "  </tbody>\n",
       "</table>\n",
       "</div>"
      ],
      "text/plain": [
       "   rating       date         variation  \\\n",
       "0       5  31-Jul-18  Charcoal Fabric    \n",
       "1       5  31-Jul-18  Charcoal Fabric    \n",
       "2       4  31-Jul-18    Walnut Finish    \n",
       "3       5  31-Jul-18  Charcoal Fabric    \n",
       "4       5  31-Jul-18  Charcoal Fabric    \n",
       "\n",
       "                                    verified_reviews  feedback  \n",
       "0                                      Love my Echo!         1  \n",
       "1                                          Loved it!         1  \n",
       "2  Sometimes while playing a game, you can answer...         1  \n",
       "3  I have had a lot of fun with this thing. My 4 ...         1  \n",
       "4                                              Music         1  "
      ]
     },
     "execution_count": 3,
     "metadata": {},
     "output_type": "execute_result"
    }
   ],
   "source": [
    "df = pd.read_csv('amazon_alexa.tsv', delimiter= '\\t')\n",
    "df.head()"
   ]
  },
  {
   "cell_type": "markdown",
   "metadata": {},
   "source": [
    "## Data Exploration"
   ]
  },
  {
   "cell_type": "code",
   "execution_count": 4,
   "metadata": {},
   "outputs": [
    {
     "name": "stdout",
     "output_type": "stream",
     "text": [
      "CountVectorizer(stop_words='english')\n"
     ]
    }
   ],
   "source": [
    "from sklearn.feature_extraction.text import CountVectorizer\n",
    "countVec = CountVectorizer(stop_words= 'english')\n",
    "print(countVec)\n",
    "words = countVec.fit_transform(df.verified_reviews)\n",
    "# words\n",
    "# Combine all reviews\n",
    "reviews = \" \".join([review for review in df['verified_reviews']])\n",
    "                        \n",
    "# Initialize wordcloud object\n",
    "wc = WordCloud(background_color='white', max_words=50)\n"
   ]
  },
  {
   "cell_type": "markdown",
   "metadata": {},
   "source": [
    "## Preprocessing\n"
   ]
  },
  {
   "cell_type": "code",
   "execution_count": 5,
   "metadata": {},
   "outputs": [],
   "source": [
    "from nltk.corpus import stopwords\n",
    "from nltk.tokenize import word_tokenize\n",
    "import nltk\n",
    "stop_words = set(stopwords.words('english'))\n"
   ]
  },
  {
   "cell_type": "markdown",
   "metadata": {},
   "source": [
    "## Remove spaces, symbols and digits, Apply Lower\n"
   ]
  },
  {
   "cell_type": "code",
   "execution_count": 6,
   "metadata": {},
   "outputs": [],
   "source": [
    "import re\n",
    "\n",
    "def clean_text(text):\n",
    "    # Convert to lowercase\n",
    "    text = text.lower()\n",
    "    # Remove digits\n",
    "    text = re.sub(r'\\d+', '', text)\n",
    "    # Remove symbols\n",
    "    text = re.sub(r'[^\\w\\s]', '', text)\n",
    "    # Remove extra spaces\n",
    "    text = re.sub(r'\\s+', ' ', text).strip()\n",
    "    return text\n",
    "#_____________________________Stop Words___________________________________________________________\n",
    "def remove_stop_words(review):\n",
    "    word_tokens = word_tokenize(review)\n",
    "    filtered_review = [word for word in word_tokens if word.lower() not in stop_words]\n",
    "    return ' '.join(filtered_review)\n",
    "\n",
    "#____________________________Special characters____________________________________\n",
    "def remove_special_characters(text):\n",
    "    pattern = r'[^a-zA-Z0-9\\s]'\n",
    "    cleaned_text = re.sub(pattern, '', text)\n",
    "    return cleaned_text\n",
    "\n",
    "#________________________________ remove duplicate_words__________________________________\n",
    "def remove_duplicate_words(text):\n",
    "    words = text.split()\n",
    "    unique_words = list(dict.fromkeys(words))\n",
    "    return ' '.join(unique_words)\n",
    "\n",
    "\n",
    "#_________________________________remove numbers and spaces_______________________________________________\n",
    "def remove_numbers_and_spaces(text):\n",
    "    return ''.join([char for char in str(text) if not char.isdigit() and char != '\"\"' ])\n",
    "\n",
    "\n",
    "#______________________________Remove emojis_______________________________________________________\n",
    "def remove_emojis(text):\n",
    "    emoji_pattern = re.compile(\"[\"\n",
    "                               u\"\\U0001F600-\\U0001F64F\"  \n",
    "                               u\"\\U0001F300-\\U0001F5FF\" \n",
    "                               u\"\\U0001F680-\\U0001F6FF\"  \n",
    "                               u\"\\U0001F1E0-\\U0001F1FF\"  \n",
    "                               u\"\\U00002500-\\U00002BEF\"  \n",
    "                               u\"\\U00002702-\\U000027B0\"\n",
    "                               u\"\\U00002702-\\U000027B0\"\n",
    "                               u\"\\U000024C2-\\U0001F251\"\n",
    "                               u\"\\U0001f926-\\U0001f937\"\n",
    "                               u\"\\U00010000-\\U0010ffff\"\n",
    "                               u\"\\u2640-\\u2642\"\n",
    "                               u\"\\u2600-\\u2B55\"\n",
    "                               u\"\\u200d\"\n",
    "                               u\"\\u23cf\"\n",
    "                               u\"\\u23e9\"\n",
    "                               u\"\\u231a\"\n",
    "                               u\"\\ufe0f\"  \n",
    "                               u\"\\u3030\"\n",
    "                               \"]+\", flags=re.UNICODE)\n",
    "    return emoji_pattern.sub(r'', text)\n",
    "# # Clean the text\n",
    "# df['cleaned_reviews'] = df['cleaned_reviews'].apply(clean_text)\n",
    "\n",
    "# # Remove stop words\n",
    "# df['cleaned_reviews'] = df['cleaned_reviews'].apply(remove_stop_words)\n",
    "\n",
    "# #Remove Special Characters\n",
    "# df['cleaned_reviews'] = df['cleaned_reviews'].apply(remove_special_characters)\n",
    "\n",
    "# # Remove emojis\n",
    "# df['cleaned_reviews'] = df['cleaned_reviews'].apply(remove_emojis)\n",
    "\n",
    "# #\n",
    "# df['cleaned_reviews'] = df['cleaned_reviews'].apply(remove_numbers_and_spaces)\n",
    "\n",
    "# #\n",
    "# df['cleaned_reviews'] = df['cleaned_reviews'].apply(remove_duplicate_words)"
   ]
  },
  {
   "cell_type": "code",
   "execution_count": 7,
   "metadata": {},
   "outputs": [],
   "source": [
    "# Take list\n",
    "import re\n",
    "import nltk\n",
    "from nltk.corpus import stopwords\n",
    "from nltk.stem import WordNetLemmatizer\n",
    "\n",
    "def preprocess_text(text):\n",
    "    \"\"\"Cleans and preprocesses a single text string while preserving meaning.\"\"\"\n",
    "    # Lower text\n",
    "    text = text.lower()\n",
    "    \n",
    "    # Remove extra spaces\n",
    "    text = re.sub(r'\\s+', ' ', text).strip()\n",
    "    \n",
    "    # Remove special characters, numbers, and emojis\n",
    "    text = re.sub(r'[^a-zA-Z\\s]', '', text)\n",
    "    \n",
    "    # Remove extra spaces\n",
    "    text = re.sub(r'\\s+', ' ', text).strip()\n",
    "\n",
    "    # Tokenize\n",
    "    words = text.split()\n",
    "\n",
    "    # Remove stop words while preserving negation\n",
    "    stop_words = set(stopwords.words('english'))\n",
    "    stop_words.remove('not')\n",
    "    filtered_words = [word for word in words if word not in stop_words]\n",
    "\n",
    "    # Remove single character words\n",
    "    filtered_words = [word for word in filtered_words if len(word) > 1]\n",
    "    \n",
    "    # Lemmatization\n",
    "    lemmatizer = WordNetLemmatizer()\n",
    "    lemmatized_words = [lemmatizer.lemmatize(word) for word in filtered_words]\n",
    "\n",
    "    return ' '.join(lemmatized_words)\n",
    "\n",
    "def preprocess_sentences(sentences):\n",
    "    \"\"\"Preprocesses a list of sentences.\"\"\"\n",
    "    return [preprocess_text(sentence) for sentence in sentences]\n"
   ]
  },
  {
   "cell_type": "code",
   "execution_count": 8,
   "metadata": {},
   "outputs": [
    {
     "data": {
      "text/plain": [
       "'not loved love'"
      ]
     },
     "execution_count": 8,
     "metadata": {},
     "output_type": "execute_result"
    }
   ],
   "source": [
    "preprocess_text(\"i do not loved and love@    #\")"
   ]
  },
  {
   "cell_type": "code",
   "execution_count": 9,
   "metadata": {},
   "outputs": [
    {
     "data": {
      "text/plain": [
       "'loved'"
      ]
     },
     "execution_count": 9,
     "metadata": {},
     "output_type": "execute_result"
    }
   ],
   "source": [
    "preprocess_text('loved')"
   ]
  },
  {
   "cell_type": "code",
   "execution_count": 10,
   "metadata": {},
   "outputs": [
    {
     "data": {
      "text/plain": [
       "Index(['rating', 'date', 'variation', 'verified_reviews', 'feedback'], dtype='object')"
      ]
     },
     "execution_count": 10,
     "metadata": {},
     "output_type": "execute_result"
    }
   ],
   "source": [
    "df.columns"
   ]
  },
  {
   "cell_type": "code",
   "execution_count": 11,
   "metadata": {},
   "outputs": [],
   "source": [
    "df['cleaned_reviews'] = df['verified_reviews'].apply(preprocess_text)"
   ]
  },
  {
   "cell_type": "markdown",
   "metadata": {},
   "source": [
    "### Remove Empty Reviews"
   ]
  },
  {
   "cell_type": "code",
   "execution_count": 12,
   "metadata": {},
   "outputs": [
    {
     "data": {
      "text/html": [
       "<div>\n",
       "<style scoped>\n",
       "    .dataframe tbody tr th:only-of-type {\n",
       "        vertical-align: middle;\n",
       "    }\n",
       "\n",
       "    .dataframe tbody tr th {\n",
       "        vertical-align: top;\n",
       "    }\n",
       "\n",
       "    .dataframe thead th {\n",
       "        text-align: right;\n",
       "    }\n",
       "</style>\n",
       "<table border=\"1\" class=\"dataframe\">\n",
       "  <thead>\n",
       "    <tr style=\"text-align: right;\">\n",
       "      <th></th>\n",
       "      <th>rating</th>\n",
       "      <th>date</th>\n",
       "      <th>variation</th>\n",
       "      <th>verified_reviews</th>\n",
       "      <th>feedback</th>\n",
       "      <th>cleaned_reviews</th>\n",
       "    </tr>\n",
       "  </thead>\n",
       "  <tbody>\n",
       "    <tr>\n",
       "      <th>0</th>\n",
       "      <td>5</td>\n",
       "      <td>31-Jul-18</td>\n",
       "      <td>Charcoal Fabric</td>\n",
       "      <td>Love my Echo!</td>\n",
       "      <td>1</td>\n",
       "      <td>love echo</td>\n",
       "    </tr>\n",
       "    <tr>\n",
       "      <th>1</th>\n",
       "      <td>5</td>\n",
       "      <td>31-Jul-18</td>\n",
       "      <td>Charcoal Fabric</td>\n",
       "      <td>Loved it!</td>\n",
       "      <td>1</td>\n",
       "      <td>loved</td>\n",
       "    </tr>\n",
       "    <tr>\n",
       "      <th>2</th>\n",
       "      <td>4</td>\n",
       "      <td>31-Jul-18</td>\n",
       "      <td>Walnut Finish</td>\n",
       "      <td>Sometimes while playing a game, you can answer...</td>\n",
       "      <td>1</td>\n",
       "      <td>sometimes playing game answer question correct...</td>\n",
       "    </tr>\n",
       "    <tr>\n",
       "      <th>3</th>\n",
       "      <td>5</td>\n",
       "      <td>31-Jul-18</td>\n",
       "      <td>Charcoal Fabric</td>\n",
       "      <td>I have had a lot of fun with this thing. My 4 ...</td>\n",
       "      <td>1</td>\n",
       "      <td>lot fun thing yr old learns dinosaur control l...</td>\n",
       "    </tr>\n",
       "    <tr>\n",
       "      <th>4</th>\n",
       "      <td>5</td>\n",
       "      <td>31-Jul-18</td>\n",
       "      <td>Charcoal Fabric</td>\n",
       "      <td>Music</td>\n",
       "      <td>1</td>\n",
       "      <td>music</td>\n",
       "    </tr>\n",
       "  </tbody>\n",
       "</table>\n",
       "</div>"
      ],
      "text/plain": [
       "   rating       date         variation  \\\n",
       "0       5  31-Jul-18  Charcoal Fabric    \n",
       "1       5  31-Jul-18  Charcoal Fabric    \n",
       "2       4  31-Jul-18    Walnut Finish    \n",
       "3       5  31-Jul-18  Charcoal Fabric    \n",
       "4       5  31-Jul-18  Charcoal Fabric    \n",
       "\n",
       "                                    verified_reviews  feedback  \\\n",
       "0                                      Love my Echo!         1   \n",
       "1                                          Loved it!         1   \n",
       "2  Sometimes while playing a game, you can answer...         1   \n",
       "3  I have had a lot of fun with this thing. My 4 ...         1   \n",
       "4                                              Music         1   \n",
       "\n",
       "                                     cleaned_reviews  \n",
       "0                                          love echo  \n",
       "1                                              loved  \n",
       "2  sometimes playing game answer question correct...  \n",
       "3  lot fun thing yr old learns dinosaur control l...  \n",
       "4                                              music  "
      ]
     },
     "execution_count": 12,
     "metadata": {},
     "output_type": "execute_result"
    }
   ],
   "source": [
    "def remove_empty_reviews(df, column_name):\n",
    "    # Check for empty or whitespace-only reviews\n",
    "    df = df[df[column_name].str.strip().astype(bool)]\n",
    "    return df\n",
    "\n",
    "df = remove_empty_reviews(df, 'cleaned_reviews')\n",
    "df.head()"
   ]
  },
  {
   "cell_type": "markdown",
   "metadata": {},
   "source": [
    "# Glove"
   ]
  },
  {
   "cell_type": "code",
   "execution_count": 13,
   "metadata": {},
   "outputs": [],
   "source": [
    "import numpy as np\n",
    "from nltk.tokenize import word_tokenize\n",
    "\n",
    "def load_glove_embeddings(file_path):\n",
    "    embeddings_index = {}\n",
    "    with open(file_path, 'r', encoding='utf-8') as f:\n",
    "        for line in f:\n",
    "            values = line.split()\n",
    "            word = values[0]\n",
    "            coefs = np.asarray(values[1:], dtype='float32')\n",
    "            embeddings_index[word] = coefs\n",
    "    return embeddings_index\n",
    "\n",
    "# Use a raw string to avoid unicode escape errors\n",
    "glove_embeddings = load_glove_embeddings(r\"D:\\NLP\\Amazon\\Alexa\\glove.6B.100d.txt\\glove.6B.100d.txt\")\n",
    "\n",
    "def get_glove_embedding(text, embeddings_index, embedding_dim=100):\n",
    "    words = word_tokenize(text)\n",
    "    embeddings = [embeddings_index.get(word, np.zeros(embedding_dim)) for word in words]\n",
    "    if embeddings:\n",
    "        return np.mean(embeddings, axis=0)\n",
    "    return np.zeros(embedding_dim)\n",
    "\n",
    "# Assuming df_new is defined and contains a 'verified_reviews' column\n",
    "X_glove = np.array([get_glove_embedding(review, glove_embeddings) for review in df['verified_reviews']])\n"
   ]
  },
  {
   "cell_type": "code",
   "execution_count": 14,
   "metadata": {},
   "outputs": [
    {
     "data": {
      "text/plain": [
       "array([[ 0.11624825,  0.096225  ,  0.3029075 , ..., -0.08053925,\n",
       "         0.176295  ,  0.38271751],\n",
       "       [ 0.02602667,  0.22057334,  0.49202333, ..., -0.12049567,\n",
       "         0.25322667,  0.35579334],\n",
       "       [-0.12726818,  0.22724022,  0.46986888, ..., -0.18408564,\n",
       "         0.48118478,  0.17580856],\n",
       "       ...,\n",
       "       [-0.12988522,  0.21563742,  0.42563792, ..., -0.35506614,\n",
       "         0.50676874,  0.30844042],\n",
       "       [-0.11831155,  0.22977848,  0.40940623, ..., -0.32730927,\n",
       "         0.49408776,  0.22516809],\n",
       "       [ 0.        ,  0.        ,  0.        , ...,  0.        ,\n",
       "         0.        ,  0.        ]])"
      ]
     },
     "execution_count": 14,
     "metadata": {},
     "output_type": "execute_result"
    }
   ],
   "source": [
    "X_glove"
   ]
  },
  {
   "cell_type": "markdown",
   "metadata": {},
   "source": [
    "# Imbalanced Data Handling"
   ]
  },
  {
   "cell_type": "code",
   "execution_count": null,
   "metadata": {},
   "outputs": [],
   "source": []
  },
  {
   "cell_type": "code",
   "execution_count": 15,
   "metadata": {},
   "outputs": [
    {
     "name": "stdout",
     "output_type": "stream",
     "text": [
      "(3064, 100) (3064,)\n",
      "(2144, 100) (920, 100) \n",
      " 1    1981\n",
      "0     163\n",
      "Name: feedback, dtype: int64\n",
      "(3169, 100) (793, 100) \n",
      " 0    1596\n",
      "1    1573\n",
      "Name: feedback, dtype: int64\n"
     ]
    }
   ],
   "source": [
    "X = X_glove\n",
    "y = df.feedback\n",
    "print(X.shape, y.shape)\n",
    "## Dataset split\n",
    "from sklearn.model_selection import train_test_split\n",
    "from sklearn.metrics import accuracy_score\n",
    "X_train, X_test, y_train, y_test = train_test_split(X, y, test_size = 0.3, random_state = 15)\n",
    "print(X_train.shape, X_test.shape,'\\n',y_train.value_counts())\n",
    "\n",
    "\n",
    "from sklearn.datasets import make_classification\n",
    "from imblearn.over_sampling import SMOTE\n",
    "from sklearn.model_selection import train_test_split\n",
    "\n",
    "# SMOTE Handling\n",
    "smote = SMOTE()\n",
    "X_train_resampled, y_train_resampled = smote.fit_resample(X_train, y_train)\n",
    "X_train, X_test, y_train, y_test = train_test_split(X_train_resampled, y_train_resampled , test_size=0.2, random_state=42)\n",
    "print(X_train.shape, X_test.shape,'\\n',y_train.value_counts())"
   ]
  },
  {
   "cell_type": "code",
   "execution_count": 16,
   "metadata": {},
   "outputs": [],
   "source": [
    "from sklearn.preprocessing import StandardScaler\n",
    "\n",
    "# Initialize the scaler\n",
    "scaler = StandardScaler()\n",
    "\n",
    "# Fit and transform the scaler on the training data\n",
    "X_train = scaler.fit_transform(X_train)\n",
    "\n",
    "# Transform the test data using the same scaler\n",
    "X_test = scaler.transform(X_test)"
   ]
  },
  {
   "cell_type": "markdown",
   "metadata": {},
   "source": [
    "# Random Forest Classifier"
   ]
  },
  {
   "cell_type": "code",
   "execution_count": 17,
   "metadata": {},
   "outputs": [
    {
     "name": "stdout",
     "output_type": "stream",
     "text": [
      "Best Parameters: {'max_depth': None, 'min_samples_leaf': 1, 'min_samples_split': 2, 'n_estimators': 300}\n",
      "Cross-Validation Accuracy: 95.48%\n",
      "Standard Deviation: 0.13%\n"
     ]
    },
    {
     "data": {
      "image/png": "[encoded data removed]",
      "text/plain": [
       "<Figure size 640x480 with 2 Axes>"
      ]
     },
     "metadata": {},
     "output_type": "display_data"
    },
    {
     "name": "stdout",
     "output_type": "stream",
     "text": [
      "Random Forest Classifier Accuracy: 96.97\n"
     ]
    }
   ],
   "source": [
    "# from sklearn.ensemble import RandomForestClassifier\n",
    "# from sklearn.metrics import confusion_matrix, ConfusionMatrixDisplay, accuracy_score\n",
    "# from sklearn.model_selection import GridSearchCV, cross_validate\n",
    "# import matplotlib.pyplot as plt\n",
    "# import numpy as np\n",
    "\n",
    "# # Define the parameter grid for GridSearchCV\n",
    "# param_grid = {\n",
    "#     'n_estimators': [100, 200, 300],\n",
    "#     'max_depth': [10, 20, None],\n",
    "#     'min_samples_split': [2, 5, 10],\n",
    "#     'min_samples_leaf': [1, 2, 4]\n",
    "# }\n",
    "\n",
    "# # Initialize the GridSearchCV with RandomForestClassifier\n",
    "# grid_search = GridSearchCV(estimator=RandomForestClassifier(), param_grid=param_grid, cv=5, n_jobs=-1)\n",
    "# grid_search.fit(X_train, y_train)\n",
    "\n",
    "# # Get the best model from GridSearchCV\n",
    "# best_rf = grid_search.best_estimator_\n",
    "\n",
    "# # Print the cross-validation results from GridSearchCV\n",
    "# cv_results = grid_search.cv_results_\n",
    "# print(f'Best Parameters: {grid_search.best_params_}')\n",
    "# print(f'Cross-Validation Accuracy: {np.mean(cv_results[\"mean_test_score\"]) * 100:.2f}%')\n",
    "# print(f'Standard Deviation: {np.std(cv_results[\"std_test_score\"]) * 100:.2f}%')\n",
    "\n",
    "# # Fit the best model on the entire training set (already done in GridSearchCV)\n",
    "# # Predict on the test set using the best model\n",
    "# y_pred = best_rf.predict(X_test)\n",
    "\n",
    "# # Compute the confusion matrix\n",
    "# conf_matrix = confusion_matrix(y_test, y_pred)\n",
    "\n",
    "# # Display the confusion matrix\n",
    "# cm_display = ConfusionMatrixDisplay(confusion_matrix=conf_matrix, display_labels=best_rf.classes_)\n",
    "# cm_display.plot()\n",
    "# plt.show()\n",
    "\n",
    "# # Print accuracy on the test set\n",
    "# print('Random Forest Classifier Accuracy:', (accuracy_score(y_test, y_pred) * 100.0).round(2))\n"
   ]
  },
  {
   "cell_type": "code",
   "execution_count": 18,
   "metadata": {},
   "outputs": [
    {
     "data": {
      "text/plain": [
       "['love product great',\n",
       " 'terrible unhappy',\n",
       " 'excellent quality service',\n",
       " 'delivery slow item average',\n",
       " 'satisfied purchase',\n",
       " 'not worth money disappointed',\n",
       " 'good product fast delivery',\n",
       " 'item not match description',\n",
       " 'great deal would buy',\n",
       " 'item arrived damaged poor packaging',\n",
       " 'expected better performance',\n",
       " 'fantastic quality service',\n",
       " 'customer service poor',\n",
       " 'product fine overpriced',\n",
       " 'great experience highly recommended',\n",
       " 'received defective item',\n",
       " 'pleased quality',\n",
       " 'received wrong item not satisfied',\n",
       " 'okay product not great value',\n",
       " 'excellent overall happy']"
      ]
     },
     "execution_count": 18,
     "metadata": {},
     "output_type": "execute_result"
    }
   ],
   "source": [
    "# Feedback texts\n",
    "new_texts = [\n",
    "    \"I love this product. It's great!\",         # Positive\n",
    "    \"This is terrible. I am very unhappy.\",    # Negative\n",
    "    \"Excellent quality and service!\",           # Positive\n",
    "    \"Delivery was slow and the item is average.\", # Neutral (could be adjusted based on context)\n",
    "    \"Very satisfied with my purchase.\",         # Positive\n",
    "    \"Not worth the money. Very disappointed.\",  # Negative\n",
    "    \"Good product, fast delivery.\",             # Positive\n",
    "    \"The item does not match the description.\", # Negative\n",
    "    \"Great deal. Would buy again.\",             # Positive\n",
    "    \"Item arrived damaged. Poor packaging.\",    # Negative\n",
    "    \"Expected better performance.\",              # Negative\n",
    "    \"Fantastic quality and service.\",           # Positive\n",
    "    \"Customer service was poor.\",               # Negative\n",
    "    \"The product is fine but overpriced.\",      # Neutral (could be adjusted based on context)\n",
    "    \"Great experience. Highly recommended!\",    # Positive\n",
    "    \"Received a defective item.\",               # Negative\n",
    "    \"Very pleased with the quality.\",           # Positive\n",
    "    \"Received wrong item, not satisfied.\",      # Negative\n",
    "    \"Okay product but not great value.\",        # Neutral (could be adjusted based on context)\n",
    "    \"Excellent overall. Very happy with it!\"    # Positive\n",
    "]\n",
    "\n",
    "# True labels for binary classification\n",
    "true_labels = [\n",
    "    1,  # Positive: \"I love this product. It's great!\"\n",
    "    0,  # Negative: \"This is terrible. I am very unhappy.\"\n",
    "    1,  # Positive: \"Excellent quality and service!\"\n",
    "    0,  # Negative: \"Delivery was slow and the item is average.\"\n",
    "    1,  # Positive: \"Very satisfied with my purchase.\"\n",
    "    0,  # Negative: \"Not worth the money. Very disappointed.\"\n",
    "    1,  # Positive: \"Good product, fast delivery.\"\n",
    "    0,  # Negative: \"The item does not match the description.\"\n",
    "    1,  # Positive: \"Great deal. Would buy again.\"\n",
    "    0,  # Negative: \"Item arrived damaged. Poor packaging.\"\n",
    "    0,  # Negative: \"Expected better performance.\"\n",
    "    1,  # Positive: \"Fantastic quality and service.\"\n",
    "    0,  # Negative: \"Customer service was poor.\"\n",
    "    0,  # Negative: \"The product is fine but overpriced.\"\n",
    "    1,  # Positive: \"Great experience. Highly recommended!\"\n",
    "    0,  # Negative: \"Received a defective item.\"\n",
    "    1,  # Positive: \"Very pleased with the quality.\"\n",
    "    0,  # Negative: \"Received wrong item, not satisfied.\"\n",
    "    0,  # Negative: \"Okay product but not great value.\"\n",
    "    1   # Positive: \"Excellent overall. Very happy with it!\"\n",
    "]\n",
    "preprocess_sentences(new_texts)\n"
   ]
  },
  {
   "cell_type": "code",
   "execution_count": 19,
   "metadata": {},
   "outputs": [],
   "source": [
    "# Define new texts\n",
    "new_texts = [\n",
    "    \"I love this product! It's absolutely fantastic.\",\n",
    "    \"The customer service was terrible, and the product didn't work.\",\n",
    "    \"Fast shipping and great quality! Highly recommend.\",\n",
    "    \"Very disappointed. The item arrived damaged and was late.\",\n",
    "    \"Tried to play certain broadway shows like Camelot and it gives ne the group Camelot.\",\n",
    "    \"Still learning all the capabilities...but so far pretty pretty pretty good\t\",\n",
    "    \"I love it, wife hates it.\",\n",
    "    \"Love my Echo. Still learning how every thing works but having tons of fun.\",\n",
    "    \"Just like the other one\t\",\n",
    "    \"Just what I expected....\"\n",
    "]\n",
    "preprocess_sentences(new_texts)\n",
    "true_labels = [1, 0, 1, 0, 0, 1, 1, 1, 1, 1]\n"
   ]
  },
  {
   "cell_type": "code",
   "execution_count": 20,
   "metadata": {},
   "outputs": [
    {
     "name": "stdout",
     "output_type": "stream",
     "text": [
      "Random Forest Predictions: [1 0 0 0 0 1 1 0 1 0]\n",
      "Random Forest Accuracy: 70.0\n",
      "\n",
      "\n"
     ]
    }
   ],
   "source": [
    "new_texts_preprocessed =preprocess_sentences(new_texts)\n",
    "new_texts_preprocessed\n",
    "X_new_glove = np.array([get_glove_embedding(review, glove_embeddings) for review in new_texts_preprocessed])\n",
    "X_new_glove\n",
    "X_new_vectorized =X_new_glove\n",
    "# Predict with Random Forest\n",
    "y_pred_rf = best_rf.predict(X_new_vectorized)\n",
    "def predict_and_evaluate(classifier, X, y_true, model_name):\n",
    "    y_pred = classifier.predict(X)\n",
    "    accuracy = accuracy_score(y_true, y_pred) * 100\n",
    "    print(f\"{model_name} Predictions: {y_pred}\")\n",
    "    print(f\"{model_name} Accuracy: {accuracy}\\n\\n\")\n",
    "    \n",
    "predict_and_evaluate(best_rf,X_new_vectorized, true_labels, \"Random Forest\")"
   ]
  },
  {
   "cell_type": "code",
   "execution_count": 21,
   "metadata": {},
   "outputs": [
    {
     "data": {
      "text/plain": [
       "['exceptional item',\n",
       " 'incredible merchandise',\n",
       " 'topnotch offering',\n",
       " 'subpar item',\n",
       " 'poorly made item',\n",
       " 'lowquality good']"
      ]
     },
     "execution_count": 21,
     "metadata": {},
     "output_type": "execute_result"
    }
   ],
   "source": [
    "true_labels=[1,1,1,0,0,0]\n",
    "new_texts =['Exceptional items' , 'Incredible merchandise', 'Top-notch offerings', 'Subpar item','Poorly made item','Low-quality good']\n",
    "preprocess_sentences(new_texts)\n"
   ]
  },
  {
   "cell_type": "code",
   "execution_count": 22,
   "metadata": {},
   "outputs": [
    {
     "data": {
      "image/png": "[encoded data removed]",
      "text/plain": [
       "<Figure size 640x480 with 2 Axes>"
      ]
     },
     "metadata": {},
     "output_type": "display_data"
    },
    {
     "name": "stdout",
     "output_type": "stream",
     "text": [
      "Random Forest Classifier 96.72\n"
     ]
    }
   ],
   "source": [
    "from sklearn.ensemble import RandomForestClassifier\n",
    "from sklearn.metrics import confusion_matrix, ConfusionMatrixDisplay\n",
    "random_forest = RandomForestClassifier()\n",
    "random_forest.fit(X_train, y_train)\n",
    "confusion_matrix_random_forest = confusion_matrix(y_test,random_forest.predict(X_test))\n",
    "cm_display = ConfusionMatrixDisplay(confusion_matrix=confusion_matrix_random_forest,display_labels=random_forest.classes_)\n",
    "cm_display.plot()\n",
    "plt.show()\n",
    "print('Random Forest Classifier' , (accuracy_score(y_test,random_forest.predict(X_test)) * 100.0).round(2))"
   ]
  },
  {
   "cell_type": "code",
   "execution_count": 23,
   "metadata": {},
   "outputs": [
    {
     "data": {
      "image/png": "[encoded data removed]",
      "text/plain": [
       "<Figure size 640x480 with 2 Axes>"
      ]
     },
     "metadata": {},
     "output_type": "display_data"
    },
    {
     "name": "stdout",
     "output_type": "stream",
     "text": [
      "Random Forest Classifier 96.72\n"
     ]
    }
   ],
   "source": [
    "random_forest_40estimator = RandomForestClassifier(n_estimators= 40)\n",
    "random_forest_40estimator.fit(X_train, y_train)\n",
    "confusion_matrix_random_forest = confusion_matrix(y_test,random_forest_40estimator.predict(X_test))\n",
    "cm_display = ConfusionMatrixDisplay(confusion_matrix=confusion_matrix_random_forest,display_labels=random_forest_40estimator.classes_)\n",
    "cm_display.plot()\n",
    "plt.show()\n",
    "print('Random Forest Classifier' , (accuracy_score(y_test,random_forest.predict(X_test)) * 100.0).round(2))"
   ]
  },
  {
   "cell_type": "code",
   "execution_count": 24,
   "metadata": {},
   "outputs": [
    {
     "data": {
      "image/png": "[encoded data removed]",
      "text/plain": [
       "<Figure size 640x480 with 2 Axes>"
      ]
     },
     "metadata": {},
     "output_type": "display_data"
    },
    {
     "name": "stdout",
     "output_type": "stream",
     "text": [
      "Random Forest Classifier 96.72\n"
     ]
    }
   ],
   "source": [
    "random_forest_90estimators = RandomForestClassifier(n_estimators= 90)\n",
    "random_forest_90estimators.fit(X_train, y_train)\n",
    "confusion_matrix_random_forest = confusion_matrix(y_test,random_forest_90estimators.predict(X_test))\n",
    "cm_display = ConfusionMatrixDisplay(confusion_matrix=confusion_matrix_random_forest,display_labels=random_forest_90estimators.classes_)\n",
    "cm_display.plot()\n",
    "plt.show()\n",
    "print('Random Forest Classifier' , (accuracy_score(y_test,random_forest.predict(X_test)) * 100.0).round(2))"
   ]
  },
  {
   "cell_type": "markdown",
   "metadata": {},
   "source": [
    "# GradientBoostingClassifier\n",
    " combines multiple weak models (typically decision trees) into a strong predictive model. It's an ensemble method that iteratively improves the performance of the model by focusing on the errors made by previous models.\n",
    "\n",
    " *Advantages of Gradient Descent*\n",
    "Simplicity: Relatively easy to understand and implement.\n",
    "\n",
    "Efficiency: Can be computationally efficient, especially for large datasets.\n",
    "\n",
    "Wide Applicability: Used in various optimization problems, from linear regression to neural networks.\n",
    "\n",
    "Flexibility: Can be adapted to different types of functions and constraints.\n",
    "\n",
    "*Disadvantages of Gradient Descent*\n",
    "Sensitivity to Initial Values: The algorithm's performance can be influenced by the initial starting point.\n",
    "\n",
    "Local Minima: Gradient descent can get stuck in local minima, preventing it from finding the global minimum.\n",
    "\n",
    "Learning Rate: Choosing the appropriate learning rate is crucial. A too-large learning rate can lead to divergence, while a too-small learning rate can slow down convergence.\n",
    "Slow Convergence: For complex functions, convergence can be slow."
   ]
  },
  {
   "cell_type": "code",
   "execution_count": 35,
   "metadata": {},
   "outputs": [
    {
     "data": {
      "image/png": "[encoded data removed]",
      "text/plain": [
       "<Figure size 640x480 with 2 Axes>"
      ]
     },
     "metadata": {},
     "output_type": "display_data"
    },
    {
     "name": "stdout",
     "output_type": "stream",
     "text": [
      "Gradient Boosting Classifier Accuracy: 95.08\n",
      "F1 Score: 0.95\n",
      "Precision Score: 0.98\n",
      "Recall Score: 0.92\n"
     ]
    }
   ],
   "source": [
    "from sklearn.ensemble import GradientBoostingClassifier\n",
    "gbc = GradientBoostingClassifier()\n",
    "\n",
    "gbc.fit(X_train, y_train)\n",
    "\n",
    "y_pred_gbc = gbc.predict(X_test)\n",
    "\n",
    "confusion_matrix_gbc = confusion_matrix(y_test, y_pred_gbc)\n",
    "cm_display = ConfusionMatrixDisplay(confusion_matrix=confusion_matrix_gbc, display_labels=gbc.classes_)\n",
    "cm_display.plot()\n",
    "plt.show()\n",
    "\n",
    "accuracy_gbc = accuracy_score(y_test, y_pred_gbc) * 100.0\n",
    "print('Gradient Boosting Classifier Accuracy:', accuracy_gbc.round(2))\n",
    "\n",
    "# F1 Score\n",
    "f1_gbc = f1_score(y_test, y_pred_gbc)\n",
    "print(f\"F1 Score: {f1_gbc:.2f}\")\n",
    "\n",
    "# Precision Score\n",
    "precision_gbc = precision_score(y_test, y_pred_gbc).round(2)\n",
    "print('Precision Score:', precision_gbc)\n",
    "\n",
    "# Recall Score\n",
    "recall_gbc = recall_score(y_test, y_pred_gbc).round(2)\n",
    "print('Recall Score:', recall_gbc)"
   ]
  },
  {
   "cell_type": "markdown",
   "metadata": {},
   "source": [
    "## XGBoost\n",
    "XGBoost builds an ensemble of decision trees iteratively, where each subsequent tree aims to correct the errors of the previous ones. \n",
    "Advantages of XGBoost\n",
    "High Performance: Often achieves state-of-the-art results on various datasets.\n",
    "Scalability: Handles large datasets efficiently and can be distributed across multiple machines.\n",
    "Regularization: Built-in regularization prevents overfitting.\n",
    "Flexibility: Can be applied to different types of problems.\n",
    "Efficiency: Optimized for speed and memory usage.\n",
    "\n",
    "\n",
    "\n",
    "*Advantages of XGBoost*\n",
    "Performance:\n",
    "XGBoost is often faster and more accurate than other gradient boosting methods due to its optimizations.\n",
    "Regularization:\n",
    "Built-in regularization helps prevent overfitting and improves model generalization.\n",
    "Handling of Missing Values:\n",
    "Efficiently handles missing data without requiring imputation.\n",
    "Feature Importance:\n",
    "Provides methods to evaluate feature importance, aiding in model interpretability.\n",
    "Scalability:\n",
    "Designed to handle large datasets and parallelize computations, making it suitable for big data.\n",
    "\n",
    "*Disadvantages of XGBoost*\n",
    "Complexity:\n",
    "The model can become complex, making it harder to interpret compared to simpler models.\n",
    "Computational Resources:\n",
    "While efficient, it still requires substantial computational resources, especially with large datasets and many boosting rounds.\n",
    "Hyperparameter Tuning:\n",
    "XGBoost has many hyperparameters that need careful tuning to achieve optimal performance."
   ]
  },
  {
   "cell_type": "code",
   "execution_count": 36,
   "metadata": {},
   "outputs": [
    {
     "data": {
      "image/png": "[encoded data removed]",
      "text/plain": [
       "<Figure size 640x480 with 2 Axes>"
      ]
     },
     "metadata": {},
     "output_type": "display_data"
    },
    {
     "name": "stdout",
     "output_type": "stream",
     "text": [
      "XGBoostClassifier Classifier 97.23\n",
      "F1 Score: 0.97 \n",
      "precision_score =  0.99 \n",
      "recall score =  0.96\n"
     ]
    }
   ],
   "source": [
    "from xgboost import XGBClassifier\n",
    "XGBoostClassifier = XGBClassifier()\n",
    "XGBoostClassifier.fit(X_train, y_train)\n",
    "confusion_matrix_XGBoostClassifier = confusion_matrix(y_test,XGBoostClassifier.predict(X_test))\n",
    "cm_display = ConfusionMatrixDisplay(confusion_matrix=confusion_matrix_XGBoostClassifier,\n",
    "                                    display_labels=XGBoostClassifier.classes_)\n",
    "cm_display.plot()\n",
    "plt.show()\n",
    "\n",
    "y_pred_XGBClassifier = XGBoostClassifier.predict(X_test)\n",
    "print('XGBoostClassifier Classifier' , (accuracy_score(y_test,y_pred_XGBClassifier) * 100.0).round(2))\n",
    "\n",
    "f1 = f1_score(y_test,y_pred_XGBClassifier)\n",
    "print(f\"F1 Score: {f1:.2f}\",\n",
    "      '\\nprecision_score = ', precision_score(y_test,y_pred_XGBClassifier).round(2),\n",
    "      '\\nrecall score = ', recall_score(y_test,y_pred_XGBClassifier).round(2))"
   ]
  },
  {
   "cell_type": "markdown",
   "metadata": {},
   "source": [
    "# AdaBoost Classifier\n",
    "*Advantages* of AdaBoost include its improved accuracy, focus on hard cases, flexibility with different base learners, and robustness to overfitting when used properly. \n",
    "\n",
    "*Disadvantages* such as sensitivity to noisy data, computational intensity, potential poor performance with overly simple weak learners, and risk of overfitting if not tuned correctly. "
   ]
  },
  {
   "cell_type": "code",
   "execution_count": 37,
   "metadata": {},
   "outputs": [
    {
     "name": "stderr",
     "output_type": "stream",
     "text": [
      "c:\\Users\\sohil\\AppData\\Local\\Programs\\Python\\Python311\\Lib\\site-packages\\sklearn\\ensemble\\_base.py:166: FutureWarning:\n",
      "\n",
      "`base_estimator` was renamed to `estimator` in version 1.2 and will be removed in 1.4.\n",
      "\n"
     ]
    },
    {
     "data": {
      "image/png": "[encoded data removed]",
      "text/plain": [
       "<Figure size 640x480 with 2 Axes>"
      ]
     },
     "metadata": {},
     "output_type": "display_data"
    },
    {
     "name": "stdout",
     "output_type": "stream",
     "text": [
      "AdaBoostClassifier Classifier 86.13\n",
      "F1 Score: 0.86 \n",
      "precision_score =  0.89 \n",
      "recall score =  0.84\n"
     ]
    }
   ],
   "source": [
    "from sklearn.ensemble import AdaBoostClassifier\n",
    "from sklearn.tree import DecisionTreeClassifier\n",
    "from sklearn.metrics import confusion_matrix, ConfusionMatrixDisplay\n",
    "import matplotlib.pyplot as plt\n",
    "\n",
    "# Initialize base model\n",
    "base_model = DecisionTreeClassifier(max_depth=1)  # Decision stump\n",
    "\n",
    "# Initialize AdaBoost\n",
    "ada_boost_classifier = AdaBoostClassifier(base_estimator=base_model, \n",
    "                                          n_estimators=50, \n",
    "                                          random_state=42)\n",
    "\n",
    "# Train the model\n",
    "ada_boost_classifier.fit(X_train, y_train)\n",
    "\n",
    "# Make predictions\n",
    "y_pred_ada_boost_classifier = ada_boost_classifier.predict(X_test)\n",
    "\n",
    "# Calculate confusion matrix\n",
    "confusion_matrix_AdaBoostClassifier = confusion_matrix(y_test, y_pred_ada_boost_classifier)\n",
    "\n",
    "# Display confusion matrix\n",
    "cm_display = ConfusionMatrixDisplay(confusion_matrix=confusion_matrix_AdaBoostClassifier,\n",
    "                                    display_labels=ada_boost_classifier.classes_)\n",
    "cm_display.plot()\n",
    "plt.show()\n",
    "\n",
    "print('AdaBoostClassifier Classifier' , (accuracy_score(y_test,y_pred_ada_boost_classifier) * 100.0).round(2))\n",
    "\n",
    "f1 = f1_score(y_test,y_pred_ada_boost_classifier)\n",
    "print(f\"F1 Score: {f1:.2f}\",\n",
    "      '\\nprecision_score = ', precision_score(y_test,y_pred_ada_boost_classifier).round(2),\n",
    "      '\\nrecall score = ', recall_score(y_test,y_pred_ada_boost_classifier).round(2))"
   ]
  },
  {
   "cell_type": "markdown",
   "metadata": {},
   "source": [
    "## Decision Tree Classifier"
   ]
  },
  {
   "cell_type": "code",
   "execution_count": 38,
   "metadata": {},
   "outputs": [
    {
     "data": {
      "image/png": "[encoded data removed]",
      "text/plain": [
       "<Figure size 640x480 with 2 Axes>"
      ]
     },
     "metadata": {},
     "output_type": "display_data"
    },
    {
     "name": "stdout",
     "output_type": "stream",
     "text": [
      "Decision Tree Classifier 89.79\n",
      "F1 Score: 0.90 \n",
      "precision_score =  0.94 \n",
      "recall score =  0.86\n"
     ]
    }
   ],
   "source": [
    "from sklearn.tree import DecisionTreeClassifier\n",
    "dessigionTreeClassifier = DecisionTreeClassifier()\n",
    "\n",
    "dessigionTreeClassifier.fit(X_train,y_train)\n",
    "\n",
    "y_pred_dessigionTreeClassifier = dessigionTreeClassifier.predict(X_test)\n",
    "\n",
    "confusion_matrix_dessigionTreeClassifier = confusion_matrix(y_test,\n",
    "                                                            dessigionTreeClassifier.predict(X_test))\n",
    "\n",
    "cm_display = ConfusionMatrixDisplay(confusion_matrix=confusion_matrix_dessigionTreeClassifier,\n",
    "                                    display_labels=dessigionTreeClassifier.classes_)\n",
    "cm_display.plot()\n",
    "plt.show()\n",
    "\n",
    "print('Decision Tree Classifier' , (accuracy_score(y_test,y_pred_dessigionTreeClassifier) * 100.0).round(2))\n",
    "\n",
    "f1 = f1_score(y_test,y_pred_dessigionTreeClassifier)\n",
    "print(f\"F1 Score: {f1:.2f}\",\n",
    "      '\\nprecision_score = ', precision_score(y_test,y_pred_dessigionTreeClassifier).round(2),\n",
    "      '\\nrecall score = ', recall_score(y_test,y_pred_dessigionTreeClassifier).round(2))\n"
   ]
  },
  {
   "cell_type": "markdown",
   "metadata": {},
   "source": [
    "# KNN"
   ]
  },
  {
   "cell_type": "code",
   "execution_count": 39,
   "metadata": {},
   "outputs": [
    {
     "data": {
      "image/png": "[encoded data removed]",
      "text/plain": [
       "<Figure size 640x480 with 2 Axes>"
      ]
     },
     "metadata": {},
     "output_type": "display_data"
    },
    {
     "name": "stdout",
     "output_type": "stream",
     "text": [
      "KNN Classifier Classifier 80.2\n",
      "F1 Score: 0.76 \n",
      "precision_score =  1.0 \n",
      "recall score =  0.62\n"
     ]
    }
   ],
   "source": [
    "from sklearn.neighbors import KNeighborsClassifier\n",
    "\n",
    "knn = KNeighborsClassifier(n_neighbors = 2)\n",
    "knn.fit(X_train, y_train)\n",
    "confusion_matrix_KNN = confusion_matrix(y_test,\n",
    "                                        knn.predict(X_test))\n",
    "cm_display = ConfusionMatrixDisplay(confusion_matrix=confusion_matrix_KNN,\n",
    "                                    display_labels=knn.classes_)\n",
    "cm_display.plot()\n",
    "plt.show()\n",
    "y_pred_knn = knn.predict(X_test)\n",
    "print('KNN Classifier Classifier' , (accuracy_score(y_test,\n",
    "                                                    y_pred_knn) * 100.0).round(2))\n",
    "\n",
    "f1 = f1_score(y_test,y_pred_knn)\n",
    "print(f\"F1 Score: {f1:.2f}\",\n",
    "      '\\nprecision_score = ', precision_score(y_test,y_pred_knn).round(2),\n",
    "      '\\nrecall score = ', recall_score(y_test,y_pred_knn).round(2))"
   ]
  },
  {
   "cell_type": "markdown",
   "metadata": {},
   "source": [
    "# Logistic regression (Normal Equation)"
   ]
  },
  {
   "cell_type": "code",
   "execution_count": 40,
   "metadata": {},
   "outputs": [
    {
     "data": {
      "image/png": "[encoded data removed]",
      "text/plain": [
       "<Figure size 640x480 with 2 Axes>"
      ]
     },
     "metadata": {},
     "output_type": "display_data"
    },
    {
     "name": "stdout",
     "output_type": "stream",
     "text": [
      "Logistic Regression Classifier Accuracy: 85.75\n",
      "F1 Score: 0.85 \n",
      "Precision Score:  0.91 \n",
      "Recall Score:  0.81\n"
     ]
    }
   ],
   "source": [
    "from sklearn.linear_model import LogisticRegression\n",
    "from sklearn.metrics import confusion_matrix, ConfusionMatrixDisplay, accuracy_score, f1_score, precision_score, recall_score\n",
    "import matplotlib.pyplot as plt\n",
    "\n",
    "logistic_regression = LogisticRegression(max_iter=1000, random_state=42)\n",
    "\n",
    "logistic_regression.fit(X_train, y_train)\n",
    "\n",
    "y_pred_logistic = logistic_regression.predict(X_test)\n",
    "\n",
    "confusion_matrix_logistic = confusion_matrix(y_test, y_pred_logistic)\n",
    "\n",
    "# Display confusion matrix\n",
    "cm_display = ConfusionMatrixDisplay(confusion_matrix=confusion_matrix_logistic,\n",
    "                                    display_labels=logistic_regression.classes_)\n",
    "cm_display.plot()\n",
    "plt.show()\n",
    "\n",
    "accuracy = accuracy_score(y_test, y_pred_logistic)\n",
    "print('Logistic Regression Classifier Accuracy:', (accuracy * 100.0).round(2))\n",
    "\n",
    "f1 = f1_score(y_test, y_pred_logistic)\n",
    "print(f\"F1 Score: {f1:.2f}\",\n",
    "      '\\nPrecision Score: ', precision_score(y_test, y_pred_logistic).round(2),\n",
    "      '\\nRecall Score: ', recall_score(y_test, y_pred_logistic).round(2))\n"
   ]
  },
  {
   "cell_type": "code",
   "execution_count": 41,
   "metadata": {},
   "outputs": [
    {
     "data": {
      "image/png": "[encoded data removed]",
      "text/plain": [
       "<Figure size 640x480 with 2 Axes>"
      ]
     },
     "metadata": {},
     "output_type": "display_data"
    },
    {
     "name": "stdout",
     "output_type": "stream",
     "text": [
      "Logistic Regression Classifier Accuracy: 81.34\n",
      "F1 Score: 0.80 \n",
      "Precision Score:  0.88 \n",
      "Recall Score:  0.74\n"
     ]
    }
   ],
   "source": [
    "import numpy as np\n",
    "from sklearn.metrics import confusion_matrix, ConfusionMatrixDisplay, accuracy_score, f1_score, precision_score, recall_score\n",
    "import matplotlib.pyplot as plt\n",
    "\n",
    "# Sigmoid function\n",
    "def sigmoid(z):\n",
    "    return 1 / (1 + np.exp(-z))\n",
    "\n",
    "# Gradient Descent for Logistic Regression\n",
    "def gradient_descent(X, y, learning_rate=0.01, num_iterations=1000):\n",
    "    m, n = X.shape\n",
    "    w = np.zeros(n)\n",
    "    b = 0\n",
    "\n",
    "    for _ in range(num_iterations):\n",
    "        # Linear model\n",
    "        z = np.dot(X, w) + b\n",
    "        # Predictions\n",
    "        y_pred = sigmoid(z)\n",
    "        # Gradients\n",
    "        dw = (1 / m) * np.dot(X.T, (y_pred - y))\n",
    "        db = (1 / m) * np.sum(y_pred - y)\n",
    "        # Update parameters\n",
    "        w -= learning_rate * dw\n",
    "        b -= learning_rate * db\n",
    "\n",
    "    return w, b\n",
    "\n",
    "# Predict function using learned parameters\n",
    "def predict(X, w, b):\n",
    "    return sigmoid(np.dot(X, w) + b) >= 0.5\n",
    "\n",
    "\n",
    "# Train model using gradient descent\n",
    "w, b = gradient_descent(X_train, y_train, learning_rate=0.01, num_iterations=1000)\n",
    "\n",
    "# Make predictions\n",
    "y_pred = predict(X_test, w, b)\n",
    "\n",
    "# Calculate confusion matrix\n",
    "confusion_matrix_logistic = confusion_matrix(y_test, y_pred)\n",
    "\n",
    "# Display confusion matrix\n",
    "cm_display = ConfusionMatrixDisplay(confusion_matrix=confusion_matrix_logistic,\n",
    "                                    display_labels=[0,1])\n",
    "cm_display.plot()\n",
    "plt.show()\n",
    "\n",
    "# Calculate accuracy\n",
    "accuracy = accuracy_score(y_test, y_pred)\n",
    "print('Logistic Regression Classifier Accuracy:', (accuracy * 100.0).round(2))\n",
    "\n",
    "# Calculate other metrics\n",
    "f1 = f1_score(y_test, y_pred)\n",
    "print(f\"F1 Score: {f1:.2f}\",\n",
    "      '\\nPrecision Score: ', precision_score(y_test, y_pred).round(2),\n",
    "      '\\nRecall Score: ', recall_score(y_test, y_pred).round(2))"
   ]
  },
  {
   "cell_type": "markdown",
   "metadata": {},
   "source": [
    "# Naive Bayes"
   ]
  },
  {
   "cell_type": "code",
   "execution_count": 42,
   "metadata": {},
   "outputs": [],
   "source": [
    "# from sklearn.naive_bayes import MultinomialNB\n",
    "# from sklearn.metrics import confusion_matrix, ConfusionMatrixDisplay, accuracy_score, f1_score, precision_score, recall_score\n",
    "# import matplotlib.pyplot as plt\n",
    "\n",
    "# # Initialize Naive Bayes classifier\n",
    "# naive_bayes = MultinomialNB()\n",
    "\n",
    "# # Train the model\n",
    "# naive_bayes.fit(X_train, y_train)\n",
    "\n",
    "# # Make predictions\n",
    "# y_pred_nb = naive_bayes.predict(X_test)\n",
    "\n",
    "# # Calculate confusion matrix\n",
    "# confusion_matrix_nb = confusion_matrix(y_test, y_pred_nb)\n",
    "\n",
    "# # Display confusion matrix\n",
    "# cm_display = ConfusionMatrixDisplay(confusion_matrix=confusion_matrix_nb,\n",
    "#                                     display_labels=naive_bayes.classes_)\n",
    "# cm_display.plot()\n",
    "# plt.show()\n",
    "\n",
    "# # Calculate accuracy\n",
    "# accuracy = accuracy_score(y_test, y_pred_nb)\n",
    "# print('Naive Bayes Classifier Accuracy:', (accuracy * 100.0).round(2))\n",
    "\n",
    "# # Calculate other metrics\n",
    "# f1 = f1_score(y_test, y_pred_nb)\n",
    "# precision = precision_score(y_test, y_pred_nb)\n",
    "# recall = recall_score(y_test, y_pred_nb)\n",
    "\n",
    "# print(f\"F1 Score: {f1:.2f}\",\n",
    "#       '\\nPrecision Score: ', precision.round(2),\n",
    "#       '\\nRecall Score: ', recall.round(2))\n"
   ]
  },
  {
   "cell_type": "markdown",
   "metadata": {},
   "source": [
    "# SVC"
   ]
  },
  {
   "cell_type": "code",
   "execution_count": 43,
   "metadata": {},
   "outputs": [
    {
     "data": {
      "image/png": "[encoded data removed]",
      "text/plain": [
       "<Figure size 640x480 with 2 Axes>"
      ]
     },
     "metadata": {},
     "output_type": "display_data"
    },
    {
     "name": "stdout",
     "output_type": "stream",
     "text": [
      "SVC Classifier Accuracy: 85.88\n",
      "F1 Score: 0.85 \n",
      "Precision Score:  0.92 \n",
      "Recall Score:  0.79\n"
     ]
    }
   ],
   "source": [
    "from sklearn.svm import SVC\n",
    "from sklearn.metrics import confusion_matrix, ConfusionMatrixDisplay, accuracy_score, f1_score, precision_score, recall_score\n",
    "import matplotlib.pyplot as plt\n",
    "\n",
    "# Initialize SVC\n",
    "svc = SVC(kernel='linear', random_state=42)\n",
    "\n",
    "# Train the model\n",
    "svc.fit(X_train, y_train)\n",
    "\n",
    "# Make predictions\n",
    "y_pred_svc = svc.predict(X_test)\n",
    "\n",
    "# Calculate confusion matrix\n",
    "confusion_matrix_svc = confusion_matrix(y_test, y_pred_svc)\n",
    "\n",
    "# Display confusion matrix\n",
    "cm_display = ConfusionMatrixDisplay(confusion_matrix=confusion_matrix_svc,\n",
    "                                    display_labels=svc.classes_)\n",
    "cm_display.plot()\n",
    "plt.show()\n",
    "\n",
    "# Calculate accuracy\n",
    "accuracy = accuracy_score(y_test, y_pred_svc)\n",
    "print('SVC Classifier Accuracy:', (accuracy * 100.0).round(2))\n",
    "\n",
    "# Calculate other metrics\n",
    "f1 = f1_score(y_test, y_pred_svc)\n",
    "precision = precision_score(y_test, y_pred_svc)\n",
    "recall = recall_score(y_test, y_pred_svc)\n",
    "\n",
    "print(f\"F1 Score: {f1:.2f}\",\n",
    "      '\\nPrecision Score: ', precision.round(2),\n",
    "      '\\nRecall Score: ', recall.round(2))\n"
   ]
  },
  {
   "cell_type": "code",
   "execution_count": 56,
   "metadata": {},
   "outputs": [
    {
     "name": "stdout",
     "output_type": "stream",
     "text": [
      "Random Forest Predictions: [1 1 1 0 0 0 1 0 0 0 0 1 1 0 1 0 1 0 0 1]\n",
      "Random Forest Accuracy: 80.0\n",
      "\n",
      "\n"
     ]
    },
    {
     "data": {
      "text/plain": [
       "'not know'"
      ]
     },
     "execution_count": 56,
     "metadata": {},
     "output_type": "execute_result"
    }
   ],
   "source": [
    "new_texts_preprocessed =preprocess_sentences(new_texts)\n",
    "new_texts_preprocessed\n",
    "X_new_glove = np.array([get_glove_embedding(review, glove_embeddings) for review in new_texts_preprocessed])\n",
    "X_new_glove\n",
    "X_new_vectorized =X_new_glove\n",
    "# Predict with Random Forest\n",
    "y_pred_rf = best_rf.predict(X_new_vectorized)\n",
    "def predict_and_evaluate(classifier, X, y_true, model_name):\n",
    "    y_pred = classifier.predict(X)\n",
    "    accuracy = accuracy_score(y_true, y_pred) * 100\n",
    "    print(f\"{model_name} Predictions: {y_pred}\")\n",
    "    print(f\"{model_name} Accuracy: {accuracy}\\n\\n\")\n",
    "    \n",
    "predict_and_evaluate(best_rf,X_new_vectorized, true_labels, \"Random Forest\")\n",
    "\n",
    "\n",
    "preprocess_text('I don not    KNOW!')    "
   ]
  },
  {
   "cell_type": "code",
   "execution_count": 54,
   "metadata": {},
   "outputs": [
    {
     "data": {
      "text/plain": [
       "'yes not great'"
      ]
     },
     "execution_count": 54,
     "metadata": {},
     "output_type": "execute_result"
    }
   ],
   "source": [
    "preprocess_text('Yes,   @@that is not is great')"
   ]
  },
  {
   "cell_type": "code",
   "execution_count": null,
   "metadata": {},
   "outputs": [
    {
     "data": {
      "text/plain": [
       "'like 2'"
      ]
     },
     "execution_count": 186,
     "metadata": {},
     "output_type": "execute_result"
    }
   ],
   "source": [
    "# import re\n",
    "# import nltk\n",
    "# from nltk.corpus import stopwords\n",
    "# from nltk.stem import PorterStemmer, WordNetLemmatizer\n",
    "\n",
    "# def clean_text(text):\n",
    "#   \"\"\"Cleans text by removing unwanted characters and normalizing text.\"\"\"\n",
    "#   text = text.lower()\n",
    "#   text = re.sub(r'[^\\w\\s]', '', text)  # Remove punctuation\n",
    "#   text = re.sub(r'\\s+', ' ', text).strip()  # Remove extra spaces\n",
    "#   return text\n",
    "\n",
    "# def remove_stopwords(text):\n",
    "#   \"\"\"Removes stop words from text.\"\"\"\n",
    "#   stop_words = set(stopwords.words('english'))\n",
    "#   words = text.split()\n",
    "#   filtered_words = [word for word in words if word not in stop_words]\n",
    "#   return ' '.join(filtered_words)\n",
    "\n",
    "# def lemmatize_text(text):\n",
    "#   \"\"\"Lemmatizes text to reduce words to their root form.\"\"\"\n",
    "#   lemmatizer = WordNetLemmatizer()\n",
    "#   words = text.split()\n",
    "#   lemmatized_words = [lemmatizer.lemmatize(word) for word in words]\n",
    "#   return ' '.join(lemmatized_words)\n",
    "\n",
    "# def preprocess_text(text):\n",
    "#   \"\"\"Performs text preprocessing steps.\"\"\"\n",
    "#   cleaned_text = clean_text(text)\n",
    "#   no_stopwords = remove_stopwords(cleaned_text)\n",
    "#   lemmatized_text = lemmatize_text(no_stopwords)\n",
    "#   return lemmatized_text\n",
    "\n",
    "# preprocess_text('I do not like this !@#2')"
   ]
  },
  {
   "cell_type": "code",
   "execution_count": null,
   "metadata": {},
   "outputs": [],
   "source": [
    "# import re\n",
    "# import nltk\n",
    "# from nltk.corpus import stopwords\n",
    "# from nltk.stem import WordNetLemmatizer\n",
    "\n",
    "# def preprocess_text(text):\n",
    "#   \"\"\"Cleans and preprocesses text while preserving meaning.\"\"\"\n",
    "#   # lower text\n",
    "#   text = text.lower()\n",
    "  \n",
    "#   # remove extra spaces\n",
    "#   text = re.sub(r'\\s+', ' ', text).strip()\n",
    "  \n",
    "#   # Remove special characters, numbers, and emojis\n",
    "#   text = re.sub(r'[^a-zA-Z\\s]', '', text)\n",
    "  \n",
    "#   # Remove extra spaces\n",
    "#   text = re.sub(r'\\s+', ' ', text).strip()\n",
    "\n",
    "#   # Tokenize\n",
    "#   words = text.split()\n",
    "\n",
    "#   # Remove stop words while preserving negation\n",
    "#   stop_words = set(stopwords.words('english'))\n",
    "#   stop_words.remove('not')\n",
    "#   filtered_words = [word for word in words if word not in stop_words]\n",
    "\n",
    "#   #Removes single character words from a text string.\n",
    "#   words = text.split()\n",
    "#   filtered_words = [word for word in words if len(word) > 1]\n",
    "  \n",
    "\n",
    "#   # Lemmatization\n",
    "#   lemmatizer = WordNetLemmatizer()\n",
    "#   lemmatized_words = [lemmatizer.lemmatize(word) for word in filtered_words]\n",
    "\n",
    "#   # \n",
    "#   return ' '.join(lemmatized_words)\n",
    "\n"
   ]
  },
  {
   "cell_type": "code",
   "execution_count": 53,
   "metadata": {},
   "outputs": [
    {
     "name": "stdout",
     "output_type": "stream",
     "text": [
      "everything else end \n",
      " favorite song \n",
      "  \n",
      " not like\n"
     ]
    }
   ],
   "source": [
    "\n",
    "print(preprocess_text(' Everything else is 👍🏻 .end'),'\\n',\n",
    "preprocess_text('\\\"s  favorite songs  e\\\"'), '\\n',\n",
    "preprocess_text('😍'),'\\n',\n",
    "preprocess_text('not like  !@#2'))"
   ]
  },
  {
   "cell_type": "code",
   "execution_count": null,
   "metadata": {},
   "outputs": [],
   "source": [
    "# Take list\n",
    "import re\n",
    "import nltk\n",
    "from nltk.corpus import stopwords\n",
    "from nltk.stem import WordNetLemmatizer\n",
    "\n",
    "def preprocess_text(text):\n",
    "    \"\"\"Cleans and preprocesses a single text string while preserving meaning.\"\"\"\n",
    "    # Lower text\n",
    "    text = text.lower()\n",
    "    \n",
    "    # Remove extra spaces\n",
    "    text = re.sub(r'\\s+', ' ', text).strip()\n",
    "    \n",
    "    # Remove special characters, numbers, and emojis\n",
    "    text = re.sub(r'[^a-zA-Z\\s]', '', text)\n",
    "    \n",
    "    # Remove extra spaces\n",
    "    text = re.sub(r'\\s+', ' ', text).strip()\n",
    "\n",
    "    # Tokenize\n",
    "    words = text.split()\n",
    "\n",
    "    # Remove stop words while preserving negation\n",
    "    stop_words = set(stopwords.words('english'))\n",
    "    stop_words.remove('not')\n",
    "    filtered_words = [word for word in words if word not in stop_words]\n",
    "\n",
    "    # Remove single character words\n",
    "    filtered_words = [word for word in filtered_words if len(word) > 1]\n",
    "    \n",
    "    # Lemmatization\n",
    "    lemmatizer = WordNetLemmatizer()\n",
    "    lemmatized_words = [lemmatizer.lemmatize(word) for word in filtered_words]\n",
    "\n",
    "    return ' '.join(lemmatized_words)\n",
    "\n",
    "def preprocess_sentences(sentences):\n",
    "    \"\"\"Preprocesses a list of sentences.\"\"\"\n",
    "    return [preprocess_text(sentence) for sentence in sentences]\n"
   ]
  },
  {
   "cell_type": "code",
   "execution_count": null,
   "metadata": {},
   "outputs": [
    {
     "data": {
      "text/plain": [
       "['love', 'not good', 'vvery bad']"
      ]
     },
     "execution_count": 190,
     "metadata": {},
     "output_type": "execute_result"
    }
   ],
   "source": [
    "preprocess_sentences(['I loves', 'Not good', 'vvery bad'])"
   ]
  },
  {
   "cell_type": "code",
   "execution_count": null,
   "metadata": {},
   "outputs": [],
   "source": [
    "# # # Define new texts\n",
    "# # new_texts = [\n",
    "# #     \"I love this product! It's absolutely fantastic.\",\n",
    "# #     \"The customer service was terrible, and the product didn't work.\",\n",
    "# #     \"Fast shipping and great quality! Highly recommend.\",\n",
    "# #     \"Very disappointed. The item arrived damaged and was late.\",\n",
    "# #     \"Tried to play certain broadway shows like Camelot and it gives ne the group Camelot.\",\n",
    "# #     \"Still learning all the capabilities...but so far pretty pretty pretty good\t\",\n",
    "# #     \"I love it, wife hates it.\",\n",
    "# #     \"Love my Echo. Still learning how every thing works but having tons of fun.\",\n",
    "# #     \"Just like the other one\t\",\n",
    "# #     \"Just what I expected....\"\n",
    "# # ]\n",
    "# # preprocess_sentences(new_texts)\n",
    "# # true_labels = [1, 0, 1, 0, 0, 1, 1, 1, 1, 1]\n",
    "\n",
    "\n",
    "# new_texts = [\n",
    "#     \"This product exceeded my expectations. Great quality and fast shipping!\",\n",
    "#     \"I'm very disappointed with this purchase. The item arrived damaged.\",\n",
    "#     \"Excellent service! The customer support was very helpful and responsive.\",\n",
    "#     \"The product is okay, but it took too long to arrive.\",\n",
    "#     \"I love this product! It's exactly what I needed and works perfectly.\",\n",
    "#     \"The quality of this item is subpar. I would not recommend it.\",\n",
    "#     \"Fast delivery and the product is as described. I'm happy with my purchase.\",\n",
    "#     \"The item did not match the description on the website. Very frustrating.\",\n",
    "#     \"Great value for the price. Would definitely buy again.\",\n",
    "#     \"The packaging was poor, and the item was scratched when I received it.\",\n",
    "#     \"I had high hopes for this product, but it did not perform as expected.\",\n",
    "#     \"The product is amazing, and I am very satisfied with my purchase.\",\n",
    "#     \"Not happy with the service. The response time was very slow.\",\n",
    "#     \"The product was delivered on time, but it's not as good as I anticipated.\",\n",
    "#     \"Fantastic experience! The product works great, and customer service was excellent.\",\n",
    "#     \"The item was defective out of the box. I had to return it.\",\n",
    "#     \"I'm very pleased with the quality of this product. Worth every penny.\",\n",
    "#     \"The delivery was prompt, but the item was not what I ordered.\",\n",
    "#     \"The product is okay, but the price was a bit high for what you get.\",\n",
    "#     \"I had a wonderful experience shopping here. The product and service were top-notch.\"\n",
    "# ]\n",
    "# true_labels = [\n",
    "#     1,  # \"This product exceeded my expectations. Great quality and fast shipping!\"\n",
    "#     0,  # \"I'm very disappointed with this purchase. The item arrived damaged.\"\n",
    "#     1,  # \"Excellent service! The customer support was very helpful and responsive.\"\n",
    "#     0,  # \"The product is okay, but it took too long to arrive.\"\n",
    "#     1,  # \"I love this product! It's exactly what I needed and works perfectly.\"\n",
    "#     0,  # \"The quality of this item is subpar. I would not recommend it.\"\n",
    "#     1,  # \"Fast delivery and the product is as described. I'm happy with my purchase.\"\n",
    "#     0,  # \"The item did not match the description on the website. Very frustrating.\"\n",
    "#     1,  # \"Great value for the price. Would definitely buy again.\"\n",
    "#     0,  # \"The packaging was poor, and the item was scratched when I received it.\"\n",
    "#     0,  # \"I had high hopes for this product, but it did not perform as expected.\"\n",
    "#     1,  # \"The product is amazing, and I am very satisfied with my purchase.\"\n",
    "#     0,  # \"Not happy with the service. The response time was very slow.\"\n",
    "#     0,  # \"The product was delivered on time, but it's not as good as I anticipated.\"\n",
    "#     1,  # \"Fantastic experience! The product works great, and customer service was excellent.\"\n",
    "#     0,  # \"The item was defective out of the box. I had to return it.\"\n",
    "#     1,  # \"I'm very pleased with the quality of this product. Worth every penny.\"\n",
    "#     0,  # \"The delivery was prompt, but the item was not what I ordered.\"\n",
    "#     0,  # \"The product is okay, but the price was a bit high for what you get.\"\n",
    "#     1   # \"I had a wonderful experience shopping here. The product and service were top-notch.\"\n",
    "# ]\n",
    "# preprocess_sentences(new_texts)"
   ]
  },
  {
   "cell_type": "code",
   "execution_count": 48,
   "metadata": {},
   "outputs": [
    {
     "data": {
      "text/plain": [
       "['love product great',\n",
       " 'terrible unhappy',\n",
       " 'excellent quality service',\n",
       " 'delivery slow item average',\n",
       " 'satisfied purchase',\n",
       " 'not worth money disappointed',\n",
       " 'good product fast delivery',\n",
       " 'item not match description',\n",
       " 'great deal would buy',\n",
       " 'item arrived damaged poor packaging',\n",
       " 'expected better performance',\n",
       " 'fantastic quality service',\n",
       " 'customer service poor',\n",
       " 'product fine overpriced',\n",
       " 'great experience highly recommended',\n",
       " 'received defective item',\n",
       " 'pleased quality',\n",
       " 'received wrong item not satisfied',\n",
       " 'okay product not great value',\n",
       " 'excellent overall happy']"
      ]
     },
     "execution_count": 48,
     "metadata": {},
     "output_type": "execute_result"
    }
   ],
   "source": [
    "# Feedback texts\n",
    "new_texts = [\n",
    "    \"I love this product. It's great!\",         # Positive\n",
    "    \"This is terrible. I am very unhappy.\",    # Negative\n",
    "    \"Excellent quality and service!\",           # Positive\n",
    "    \"Delivery was slow and the item is average.\", # Neutral (could be adjusted based on context)\n",
    "    \"Very satisfied with my purchase.\",         # Positive\n",
    "    \"Not worth the money. Very disappointed.\",  # Negative\n",
    "    \"Good product, fast delivery.\",             # Positive\n",
    "    \"The item does not match the description.\", # Negative\n",
    "    \"Great deal. Would buy again.\",             # Positive\n",
    "    \"Item arrived damaged. Poor packaging.\",    # Negative\n",
    "    \"Expected better performance.\",              # Negative\n",
    "    \"Fantastic quality and service.\",           # Positive\n",
    "    \"Customer service was poor.\",               # Negative\n",
    "    \"The product is fine but overpriced.\",      # Neutral (could be adjusted based on context)\n",
    "    \"Great experience. Highly recommended!\",    # Positive\n",
    "    \"Received a defective item.\",               # Negative\n",
    "    \"Very pleased with the quality.\",           # Positive\n",
    "    \"Received wrong item, not satisfied.\",      # Negative\n",
    "    \"Okay product but not great value.\",        # Neutral (could be adjusted based on context)\n",
    "    \"Excellent overall. Very happy with it!\"    # Positive\n",
    "]\n",
    "\n",
    "# True labels for binary classification\n",
    "true_labels = [\n",
    "    1,  # Positive: \"I love this product. It's great!\"\n",
    "    0,  # Negative: \"This is terrible. I am very unhappy.\"\n",
    "    1,  # Positive: \"Excellent quality and service!\"\n",
    "    0,  # Negative: \"Delivery was slow and the item is average.\"\n",
    "    1,  # Positive: \"Very satisfied with my purchase.\"\n",
    "    0,  # Negative: \"Not worth the money. Very disappointed.\"\n",
    "    1,  # Positive: \"Good product, fast delivery.\"\n",
    "    0,  # Negative: \"The item does not match the description.\"\n",
    "    1,  # Positive: \"Great deal. Would buy again.\"\n",
    "    0,  # Negative: \"Item arrived damaged. Poor packaging.\"\n",
    "    0,  # Negative: \"Expected better performance.\"\n",
    "    1,  # Positive: \"Fantastic quality and service.\"\n",
    "    0,  # Negative: \"Customer service was poor.\"\n",
    "    0,  # Negative: \"The product is fine but overpriced.\"\n",
    "    1,  # Positive: \"Great experience. Highly recommended!\"\n",
    "    0,  # Negative: \"Received a defective item.\"\n",
    "    1,  # Positive: \"Very pleased with the quality.\"\n",
    "    0,  # Negative: \"Received wrong item, not satisfied.\"\n",
    "    0,  # Negative: \"Okay product but not great value.\"\n",
    "    1   # Positive: \"Excellent overall. Very happy with it!\"\n",
    "]\n",
    "preprocess_sentences(new_texts)"
   ]
  },
  {
   "cell_type": "code",
   "execution_count": null,
   "metadata": {},
   "outputs": [],
   "source": [
    "# # Define new texts\n",
    "# new_texts = [\n",
    "#     \"I love this product! It's absolutely fantastic.\",\n",
    "#     \"The customer service was terrible, and the product didn't work.\",\n",
    "#     \"Fast shipping and great quality! Highly recommend.\",\n",
    "#     \"Very disappointed. The item arrived damaged and was late.\",\n",
    "#     \"Tried to play certain broadway shows like Camelot and it gives ne the group Camelot.\",\n",
    "#     \"Still learning all the capabilities...but so far pretty pretty pretty good\t\",\n",
    "#     \"I love it, wife hates it.\",\n",
    "#     \"Love my Echo. Still learning how every thing works but having tons of fun.\",\n",
    "#     \"Just like the other one\t\",\n",
    "#     \"Just what I expected....\"\n",
    "# ]\n",
    "# preprocess_sentences(new_texts)\n",
    "# true_labels = [1, 0, 1, 0, 0, 1, 1, 1, 1, 1]\n"
   ]
  },
  {
   "cell_type": "code",
   "execution_count": 49,
   "metadata": {},
   "outputs": [
    {
     "data": {
      "text/plain": [
       "['love product great',\n",
       " 'terrible unhappy',\n",
       " 'excellent quality service',\n",
       " 'delivery slow item average',\n",
       " 'satisfied purchase',\n",
       " 'not worth money disappointed',\n",
       " 'good product fast delivery',\n",
       " 'item not match description',\n",
       " 'great deal would buy',\n",
       " 'item arrived damaged poor packaging',\n",
       " 'expected better performance',\n",
       " 'fantastic quality service',\n",
       " 'customer service poor',\n",
       " 'product fine overpriced',\n",
       " 'great experience highly recommended',\n",
       " 'received defective item',\n",
       " 'pleased quality',\n",
       " 'received wrong item not satisfied',\n",
       " 'okay product not great value',\n",
       " 'excellent overall happy']"
      ]
     },
     "execution_count": 49,
     "metadata": {},
     "output_type": "execute_result"
    }
   ],
   "source": [
    "new_texts_preprocessed =preprocess_sentences(new_texts)\n",
    "new_texts_preprocessed"
   ]
  },
  {
   "cell_type": "code",
   "execution_count": 50,
   "metadata": {},
   "outputs": [
    {
     "data": {
      "text/plain": [
       "array([[ 0.12466801,  0.4272667 ,  0.48109332, ..., -0.7533867 ,\n",
       "         0.52562934,  0.46167335],\n",
       "       [ 0.286965  ,  0.0936785 ,  0.48957998, ...,  0.055695  ,\n",
       "        -0.23023999, -0.114355  ],\n",
       "       [-0.19791   ,  0.05880666,  0.01326999, ..., -0.60829264,\n",
       "         0.4391733 ,  0.5893833 ],\n",
       "       ...,\n",
       "       [-0.021596  ,  0.19727199,  0.46858796, ..., -0.23567   ,\n",
       "         0.2091006 ,  0.10233559],\n",
       "       [ 0.0722556 ,  0.3193962 ,  0.43996996, ..., -0.5903494 ,\n",
       "         0.3850006 ,  0.32066602],\n",
       "       [-0.08339866,  0.107258  ,  0.36836997, ..., -0.35526335,\n",
       "         0.21379666,  0.27339   ]], dtype=float32)"
      ]
     },
     "execution_count": 50,
     "metadata": {},
     "output_type": "execute_result"
    }
   ],
   "source": [
    "X_new_glove = np.array([get_glove_embedding(review, glove_embeddings) for review in new_texts_preprocessed])\n",
    "X_new_glove"
   ]
  },
  {
   "cell_type": "code",
   "execution_count": 51,
   "metadata": {},
   "outputs": [],
   "source": [
    "X_new_vectorized =X_new_glove"
   ]
  },
  {
   "cell_type": "code",
   "execution_count": null,
   "metadata": {},
   "outputs": [
    {
     "name": "stdout",
     "output_type": "stream",
     "text": [
      "Random Forest Accuracy: 45.0\n",
      "\n",
      "\n"
     ]
    }
   ],
   "source": []
  },
  {
   "cell_type": "code",
   "execution_count": null,
   "metadata": {},
   "outputs": [],
   "source": [
    "# Predict with Random Forest\n",
    "y_pred_rf = random_forest.predict(X_new_vectorized)\n",
    "\n",
    "# Predict with Random Forest\n",
    "y_pred_rf = random_forest_40estimator.predict(X_new_vectorized)\n",
    "\n",
    "# Predict with Random Forest\n",
    "y_pred_rf = random_forest_90estimators.predict(X_new_vectorized)\n",
    "\n",
    "# Predict with Gradient Boosting\n",
    "y_pred_gb = gbc .predict(X_new_vectorized)\n",
    "\n",
    "# Predict with XGBoost\n",
    "y_pred_xgb = XGBoostClassifier.predict(X_new_vectorized)\n",
    "\n",
    "# Predict with AdaBoost\n",
    "y_pred_ab = ada_boost_classifier.predict(X_new_vectorized)\n",
    "\n",
    "# Predict with Decision Tree\n",
    "y_pred_decisiontree = dessigionTreeClassifier.predict(X_new_vectorized)\n",
    "\n",
    "# Predict with K-Nearest Neighbors\n",
    "y_pred_knn = knn.predict(X_new_vectorized)\n",
    "\n",
    "# Predict with Logistic Regression\n",
    "y_pred_logistic = logistic_regression.predict(X_new_vectorized)\n",
    "\n",
    "# Predict with Naive Bayes\n",
    "# y_pred_nb = naive_bayes.predict(X_new_vectorized)\n",
    "\n",
    "# Predict with Support Vector Classifier\n",
    "y_pred_svc = svc.predict(X_new_vectorized)\n"
   ]
  },
  {
   "cell_type": "code",
   "execution_count": 63,
   "metadata": {},
   "outputs": [
    {
     "name": "stdout",
     "output_type": "stream",
     "text": [
      "Random Forest Accuracy: 100.0\n",
      "\n",
      "\n",
      "Random Forest with 40 estimators Accuracy: 100.0\n",
      "\n",
      "\n",
      "Random Forest with 90 estimators Accuracy: 66.66666666666666\n",
      "\n",
      "\n",
      "Gradient Boosting Accuracy: 83.33333333333334\n",
      "\n",
      "\n",
      "XGBoost Accuracy: 83.33333333333334\n",
      "\n",
      "\n",
      "AdaBoost Accuracy: 50.0\n",
      "\n",
      "\n",
      "Decision Tree Accuracy: 83.33333333333334\n",
      "\n",
      "\n",
      "K-Nearest Neighbors Accuracy: 50.0\n",
      "\n",
      "\n",
      "Logistic Regression Accuracy: 66.66666666666666\n",
      "\n",
      "\n",
      "Support Vector Classifier Accuracy: 83.33333333333334\n",
      "\n",
      "\n"
     ]
    }
   ],
   "source": [
    "def predict_and_evaluate(classifier, X, y_true, model_name):\n",
    "    y_pred = classifier.predict(X)\n",
    "    accuracy = accuracy_score(y_true, y_pred) * 100\n",
    "    # print(f\"{model_name} Predictions: {y_pred}\")\n",
    "    print(f\"{model_name} Accuracy: {accuracy}\\n\\n\")\n",
    "\n",
    "\n",
    "new_texts_preprocessed =preprocess_sentences(new_texts)\n",
    "X_new_glove = np.array([get_glove_embedding(review, glove_embeddings) for review in new_texts_preprocessed])\n",
    "X_new_vectorized =X_new_glove\n",
    "# Predict with Random Forest\n",
    "y_pred_rf = random_forest.predict(X_new_vectorized)\n",
    "\n",
    "# Predict with Random Forest\n",
    "y_pred_rf = random_forest_40estimator.predict(X_new_vectorized)\n",
    "\n",
    "# Predict with Random Forest\n",
    "y_pred_rf = random_forest_90estimators.predict(X_new_vectorized)\n",
    "\n",
    "# Predict with Gradient Boosting\n",
    "y_pred_gb = gbc .predict(X_new_vectorized)\n",
    "\n",
    "# Predict with XGBoost\n",
    "y_pred_xgb = XGBoostClassifier.predict(X_new_vectorized)\n",
    "\n",
    "# Predict with AdaBoost\n",
    "y_pred_ab = ada_boost_classifier.predict(X_new_vectorized)\n",
    "\n",
    "# Predict with Decision Tree\n",
    "y_pred_decisiontree = dessigionTreeClassifier.predict(X_new_vectorized)\n",
    "\n",
    "# Predict with K-Nearest Neighbors\n",
    "y_pred_knn = knn.predict(X_new_vectorized)\n",
    "\n",
    "# Predict with Logistic Regression\n",
    "y_pred_logistic = logistic_regression.predict(X_new_vectorized)\n",
    "\n",
    "# Predict with Naive Bayes\n",
    "# y_pred_nb = naive_bayes.predict(X_new_vectorized)\n",
    "\n",
    "# Predict with Support Vector Classifier\n",
    "y_pred_svc = svc.predict(X_new_vectorized)\n",
    "   \n",
    "predict_and_evaluate(random_forest,X_new_vectorized, true_labels, \"Random Forest\")\n",
    "predict_and_evaluate(random_forest_40estimator,X_new_vectorized, true_labels, \"Random Forest with 40 estimators\")\n",
    "predict_and_evaluate(random_forest_90estimators,X_new_vectorized, true_labels, \"Random Forest with 90 estimators\")\n",
    "\n",
    "predict_and_evaluate(gbc, X_new_vectorized, true_labels, \"Gradient Boosting\")\n",
    "\n",
    "predict_and_evaluate(XGBoostClassifier,X_new_vectorized, true_labels, \"XGBoost\")\n",
    "\n",
    "predict_and_evaluate(ada_boost_classifier,X_new_vectorized, true_labels, \"AdaBoost\")    \n",
    "\n",
    "predict_and_evaluate(dessigionTreeClassifier,X_new_vectorized, true_labels, \"Decision Tree\")\n",
    "\n",
    "predict_and_evaluate(knn,X_new_vectorized, true_labels, \"K-Nearest Neighbors\")\n",
    "\n",
    "\n",
    "predict_and_evaluate(logistic_regression, X_new_vectorized, true_labels, \"Logistic Regression\")\n",
    "\n",
    "# predict_and_evaluate(naive_bayes,X_new_vectorized, true_labels, \"Naive Bayes\")\n",
    "\n",
    "predict_and_evaluate(svc,X_new_vectorized, true_labels, \"Support Vector Classifier\")\n",
    "\n"
   ]
  },
  {
   "cell_type": "code",
   "execution_count": 65,
   "metadata": {},
   "outputs": [
    {
     "name": "stdout",
     "output_type": "stream",
     "text": [
      "Random Forest Predictions: [1 1 1 0 0 0]\n",
      "Random Forest Accuracy: 100.0\n",
      "\n",
      "\n",
      "Random Forest with 40 estimators Predictions: [1 1 1 0 0 0]\n",
      "Random Forest with 40 estimators Accuracy: 100.0\n",
      "\n",
      "\n",
      "Random Forest with 90 estimators Predictions: [0 0 1 0 0 0]\n",
      "Random Forest with 90 estimators Accuracy: 66.66666666666666\n",
      "\n",
      "\n",
      "Gradient Boosting Predictions: [1 1 1 0 0 1]\n",
      "Gradient Boosting Accuracy: 83.33333333333334\n",
      "\n",
      "\n",
      "XGBoost Predictions: [1 1 1 0 0 1]\n",
      "XGBoost Accuracy: 83.33333333333334\n",
      "\n",
      "\n",
      "AdaBoost Predictions: [1 0 1 0 1 1]\n",
      "AdaBoost Accuracy: 50.0\n",
      "\n",
      "\n",
      "Decision Tree Predictions: [1 1 1 0 0 1]\n",
      "Decision Tree Accuracy: 83.33333333333334\n",
      "\n",
      "\n",
      "K-Nearest Neighbors Predictions: [0 0 0 0 0 0]\n",
      "K-Nearest Neighbors Accuracy: 50.0\n",
      "\n",
      "\n",
      "Logistic Regression Predictions: [1 1 1 0 1 1]\n",
      "Logistic Regression Accuracy: 66.66666666666666\n",
      "\n",
      "\n",
      "Support Vector Classifier Predictions: [1 1 1 0 0 1]\n",
      "Support Vector Classifier Accuracy: 83.33333333333334\n",
      "\n",
      "\n"
     ]
    }
   ],
   "source": [
    "true_labels=[1,1,1,0,0,0]\n",
    "new_texts =['Exceptional items' , 'Incredible merchandise', 'Top-notch offerings', 'Subpar item','Poorly made item','Low-quality good']\n",
    "preprocess_sentences(new_texts)\n",
    "def predict_and_evaluate(classifier, X, y_true, model_name):\n",
    "    y_pred = classifier.predict(X)\n",
    "    accuracy = accuracy_score(y_true, y_pred) * 100\n",
    "    print(f\"{model_name} Predictions: {y_pred}\")\n",
    "    print(f\"{model_name} Accuracy: {accuracy}\\n\\n\")\n",
    "\n",
    "\n",
    "new_texts_preprocessed =preprocess_sentences(new_texts)\n",
    "X_new_glove = np.array([get_glove_embedding(review, glove_embeddings) for review in new_texts_preprocessed])\n",
    "X_new_vectorized =X_new_glove\n",
    "# Predict with Random Forest\n",
    "y_pred_rf = random_forest.predict(X_new_vectorized)\n",
    "\n",
    "# Predict with Random Forest\n",
    "y_pred_rf = random_forest_40estimator.predict(X_new_vectorized)\n",
    "\n",
    "# Predict with Random Forest\n",
    "y_pred_rf = random_forest_90estimators.predict(X_new_vectorized)\n",
    "\n",
    "# Predict with Gradient Boosting\n",
    "y_pred_gb = gbc .predict(X_new_vectorized)\n",
    "\n",
    "# Predict with XGBoost\n",
    "y_pred_xgb = XGBoostClassifier.predict(X_new_vectorized)\n",
    "\n",
    "# Predict with AdaBoost\n",
    "y_pred_ab = ada_boost_classifier.predict(X_new_vectorized)\n",
    "\n",
    "# Predict with Decision Tree\n",
    "y_pred_decisiontree = dessigionTreeClassifier.predict(X_new_vectorized)\n",
    "\n",
    "# Predict with K-Nearest Neighbors\n",
    "y_pred_knn = knn.predict(X_new_vectorized)\n",
    "\n",
    "# Predict with Logistic Regression\n",
    "y_pred_logistic = logistic_regression.predict(X_new_vectorized)\n",
    "\n",
    "# Predict with Naive Bayes\n",
    "# y_pred_nb = naive_bayes.predict(X_new_vectorized)\n",
    "\n",
    "# Predict with Support Vector Classifier\n",
    "y_pred_svc = svc.predict(X_new_vectorized)\n",
    "   \n",
    "predict_and_evaluate(random_forest,X_new_vectorized, true_labels, \"Random Forest\")\n",
    "predict_and_evaluate(random_forest_40estimator,X_new_vectorized, true_labels, \"Random Forest with 40 estimators\")\n",
    "predict_and_evaluate(random_forest_90estimators,X_new_vectorized, true_labels, \"Random Forest with 90 estimators\")\n",
    "\n",
    "predict_and_evaluate(gbc, X_new_vectorized, true_labels, \"Gradient Boosting\")\n",
    "\n",
    "predict_and_evaluate(XGBoostClassifier,X_new_vectorized, true_labels, \"XGBoost\")\n",
    "\n",
    "predict_and_evaluate(ada_boost_classifier,X_new_vectorized, true_labels, \"AdaBoost\")    \n",
    "\n",
    "predict_and_evaluate(dessigionTreeClassifier,X_new_vectorized, true_labels, \"Decision Tree\")\n",
    "\n",
    "predict_and_evaluate(knn,X_new_vectorized, true_labels, \"K-Nearest Neighbors\")\n",
    "\n",
    "\n",
    "predict_and_evaluate(logistic_regression, X_new_vectorized, true_labels, \"Logistic Regression\")\n",
    "\n",
    "# predict_and_evaluate(naive_bayes,X_new_vectorized, true_labels, \"Naive Bayes\")\n",
    "\n",
    "predict_and_evaluate(svc,X_new_vectorized, true_labels, \"Support Vector Classifier\")\n"
   ]
  },
  {
   "cell_type": "code",
   "execution_count": null,
   "metadata": {},
   "outputs": [],
   "source": []
  }
 ],
 "metadata": {
  "kernelspec": {
   "display_name": "Python 3",
   "language": "python",
   "name": "python3"
  },
  "language_info": {
   "codemirror_mode": {
    "name": "ipython",
    "version": 3
   },
   "file_extension": ".py",
   "mimetype": "text/x-python",
   "name": "python",
   "nbconvert_exporter": "python",
   "pygments_lexer": "ipython3",
   "version": "3.11.3"
  }
 },
 "nbformat": 4,
 "nbformat_minor": 2
}
